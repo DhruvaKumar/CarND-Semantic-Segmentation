{
 "cells": [
  {
   "cell_type": "code",
   "execution_count": 1,
   "metadata": {},
   "outputs": [],
   "source": [
    "import tensorflow as tf\n",
    "import cv2\n",
    "import numpy as np\n",
    "from glob import glob\n",
    "import os"
   ]
  },
  {
   "cell_type": "code",
   "execution_count": 2,
   "metadata": {},
   "outputs": [
    {
     "name": "stdout",
     "output_type": "stream",
     "text": [
      "INFO:tensorflow:Restoring parameters from b'../data/vgg/variables/variables'\n",
      "[<tf.Variable 'conv1_1/filter:0' shape=(3, 3, 3, 64) dtype=float32_ref>, <tf.Variable 'conv1_1/biases:0' shape=(64,) dtype=float32_ref>, <tf.Variable 'conv1_2/filter:0' shape=(3, 3, 64, 64) dtype=float32_ref>, <tf.Variable 'conv1_2/biases:0' shape=(64,) dtype=float32_ref>, <tf.Variable 'conv2_1/filter:0' shape=(3, 3, 64, 128) dtype=float32_ref>, <tf.Variable 'conv2_1/biases:0' shape=(128,) dtype=float32_ref>, <tf.Variable 'conv2_2/filter:0' shape=(3, 3, 128, 128) dtype=float32_ref>, <tf.Variable 'conv2_2/biases:0' shape=(128,) dtype=float32_ref>, <tf.Variable 'conv3_1/filter:0' shape=(3, 3, 128, 256) dtype=float32_ref>, <tf.Variable 'conv3_1/biases:0' shape=(256,) dtype=float32_ref>, <tf.Variable 'conv3_2/filter:0' shape=(3, 3, 256, 256) dtype=float32_ref>, <tf.Variable 'conv3_2/biases:0' shape=(256,) dtype=float32_ref>, <tf.Variable 'conv3_3/filter:0' shape=(3, 3, 256, 256) dtype=float32_ref>, <tf.Variable 'conv3_3/biases:0' shape=(256,) dtype=float32_ref>, <tf.Variable 'conv4_1/filter:0' shape=(3, 3, 256, 512) dtype=float32_ref>, <tf.Variable 'conv4_1/biases:0' shape=(512,) dtype=float32_ref>, <tf.Variable 'conv4_2/filter:0' shape=(3, 3, 512, 512) dtype=float32_ref>, <tf.Variable 'conv4_2/biases:0' shape=(512,) dtype=float32_ref>, <tf.Variable 'conv4_3/filter:0' shape=(3, 3, 512, 512) dtype=float32_ref>, <tf.Variable 'conv4_3/biases:0' shape=(512,) dtype=float32_ref>, <tf.Variable 'conv5_1/filter:0' shape=(3, 3, 512, 512) dtype=float32_ref>, <tf.Variable 'conv5_1/biases:0' shape=(512,) dtype=float32_ref>, <tf.Variable 'conv5_2/filter:0' shape=(3, 3, 512, 512) dtype=float32_ref>, <tf.Variable 'conv5_2/biases:0' shape=(512,) dtype=float32_ref>, <tf.Variable 'conv5_3/filter:0' shape=(3, 3, 512, 512) dtype=float32_ref>, <tf.Variable 'conv5_3/biases:0' shape=(512,) dtype=float32_ref>, <tf.Variable 'fc6/weights:0' shape=(7, 7, 512, 4096) dtype=float32_ref>, <tf.Variable 'fc6/biases:0' shape=(4096,) dtype=float32_ref>, <tf.Variable 'fc7/weights:0' shape=(1, 1, 4096, 4096) dtype=float32_ref>, <tf.Variable 'fc7/biases:0' shape=(4096,) dtype=float32_ref>]\n"
     ]
    }
   ],
   "source": [
    "sess = tf.Session()\n",
    "sess.__enter__() # equivalent to `with sess:`\n",
    "tf.saved_model.loader.load(sess, [\"vgg16\"], '../data/vgg')\n",
    "    \n",
    "#     writer = tf.summary.FileWriter(\"tflogs/\")\n",
    "#     writer.add_graph(sess.graph)\n",
    "print(tf.global_variables())"
   ]
  },
  {
   "cell_type": "code",
   "execution_count": 3,
   "metadata": {},
   "outputs": [],
   "source": [
    "graph = tf.get_default_graph()\n",
    "vgg_input_tensor_name = 'image_input:0'\n",
    "vgg_keep_prob_tensor_name = 'keep_prob:0'\n",
    "vgg_layer3_out_tensor_name = 'layer3_out:0'\n",
    "vgg_layer4_out_tensor_name = 'layer4_out:0'\n",
    "vgg_layer7_out_tensor_name = 'layer7_out:0'\n",
    "\n",
    "image_input = graph.get_tensor_by_name(vgg_input_tensor_name)\n",
    "keep_prob = graph.get_tensor_by_name(vgg_keep_prob_tensor_name)\n",
    "layer3_out = graph.get_tensor_by_name(vgg_layer3_out_tensor_name)\n",
    "layer4_out = graph.get_tensor_by_name(vgg_layer4_out_tensor_name)\n",
    "layer7_out = graph.get_tensor_by_name(vgg_layer7_out_tensor_name)"
   ]
  },
  {
   "cell_type": "code",
   "execution_count": 4,
   "metadata": {},
   "outputs": [
    {
     "name": "stdout",
     "output_type": "stream",
     "text": [
      "Tensor(\"image_input:0\", shape=(?, ?, ?, 3), dtype=float32)\n",
      "Tensor(\"keep_prob:0\", dtype=float32)\n",
      "Tensor(\"layer3_out:0\", shape=(?, ?, ?, 256), dtype=float32)\n",
      "Tensor(\"layer4_out:0\", shape=(?, ?, ?, 512), dtype=float32)\n",
      "Tensor(\"layer7_out:0\", shape=(?, ?, ?, 4096), dtype=float32)\n"
     ]
    }
   ],
   "source": [
    "print(image_input)\n",
    "print(keep_prob)\n",
    "print(layer3_out)\n",
    "print(layer4_out)\n",
    "print(layer7_out)"
   ]
  },
  {
   "cell_type": "code",
   "execution_count": 5,
   "metadata": {},
   "outputs": [
    {
     "name": "stdout",
     "output_type": "stream",
     "text": [
      "['save/RestoreV2_29/shape_and_slices', 'save/RestoreV2_29/tensor_names', 'save/RestoreV2_28/shape_and_slices', 'save/RestoreV2_28/tensor_names', 'save/RestoreV2_27/shape_and_slices', 'save/RestoreV2_27/tensor_names', 'save/RestoreV2_26/shape_and_slices', 'save/RestoreV2_26/tensor_names', 'save/RestoreV2_25/shape_and_slices', 'save/RestoreV2_25/tensor_names', 'save/RestoreV2_24/shape_and_slices', 'save/RestoreV2_24/tensor_names', 'save/RestoreV2_23/shape_and_slices', 'save/RestoreV2_23/tensor_names', 'save/RestoreV2_22/shape_and_slices', 'save/RestoreV2_22/tensor_names', 'save/RestoreV2_21/shape_and_slices', 'save/RestoreV2_21/tensor_names', 'save/RestoreV2_20/shape_and_slices', 'save/RestoreV2_20/tensor_names', 'save/RestoreV2_19/shape_and_slices', 'save/RestoreV2_19/tensor_names', 'save/RestoreV2_18/shape_and_slices', 'save/RestoreV2_18/tensor_names', 'save/RestoreV2_17/shape_and_slices', 'save/RestoreV2_17/tensor_names', 'save/RestoreV2_16/shape_and_slices', 'save/RestoreV2_16/tensor_names', 'save/RestoreV2_15/shape_and_slices', 'save/RestoreV2_15/tensor_names', 'save/RestoreV2_14/shape_and_slices', 'save/RestoreV2_14/tensor_names', 'save/RestoreV2_13/shape_and_slices', 'save/RestoreV2_13/tensor_names', 'save/RestoreV2_12/shape_and_slices', 'save/RestoreV2_12/tensor_names', 'save/RestoreV2_11/shape_and_slices', 'save/RestoreV2_11/tensor_names', 'save/RestoreV2_10/shape_and_slices', 'save/RestoreV2_10/tensor_names', 'save/RestoreV2_9/shape_and_slices', 'save/RestoreV2_9/tensor_names', 'save/RestoreV2_8/shape_and_slices', 'save/RestoreV2_8/tensor_names', 'save/RestoreV2_7/shape_and_slices', 'save/RestoreV2_7/tensor_names', 'save/RestoreV2_6/shape_and_slices', 'save/RestoreV2_6/tensor_names', 'save/RestoreV2_5/shape_and_slices', 'save/RestoreV2_5/tensor_names', 'save/RestoreV2_4/shape_and_slices', 'save/RestoreV2_4/tensor_names', 'save/RestoreV2_3/shape_and_slices', 'save/RestoreV2_3/tensor_names', 'save/RestoreV2_2/shape_and_slices', 'save/RestoreV2_2/tensor_names', 'save/RestoreV2_1/shape_and_slices', 'save/RestoreV2_1/tensor_names', 'save/RestoreV2/shape_and_slices', 'save/RestoreV2/tensor_names', 'save/SaveV2/shape_and_slices', 'save/SaveV2/tensor_names', 'save/ShardedFilename/shard', 'save/num_shards', 'save/StringJoin/inputs_1', 'save/Const', 'save/RestoreV2_29', 'save/RestoreV2_28', 'save/RestoreV2_27', 'save/RestoreV2_26', 'save/RestoreV2_25', 'save/RestoreV2_24', 'save/RestoreV2_23', 'save/RestoreV2_22', 'save/RestoreV2_21', 'save/RestoreV2_20', 'save/RestoreV2_19', 'save/RestoreV2_18', 'save/RestoreV2_17', 'save/RestoreV2_16', 'save/RestoreV2_15', 'save/RestoreV2_14', 'save/RestoreV2_13', 'save/RestoreV2_12', 'save/RestoreV2_11', 'save/RestoreV2_10', 'save/RestoreV2_9', 'save/RestoreV2_8', 'save/RestoreV2_7', 'save/RestoreV2_6', 'save/RestoreV2_5', 'save/RestoreV2_4', 'save/RestoreV2_3', 'save/RestoreV2_2', 'save/RestoreV2_1', 'save/RestoreV2', 'save/StringJoin', 'save/ShardedFilename', 'dropout_1/random_uniform/max', 'dropout_1/random_uniform/min', 'dropout_1/random_uniform/sub', 'fc7/biases', 'save/Assign_28', 'fc7/biases/read', 'fc7/biases/Initializer/Const', 'fc7/biases/Assign', 'fc7/weight_loss/y', 'fc7/weights', 'save/Assign_29', 'fc7/weights/read', 'fc7/L2Loss', 'fc7/weight_loss', 'fc7/weights/Initializer/Const', 'fc7/weights/Assign', 'dropout/random_uniform/max', 'dropout/random_uniform/min', 'dropout/random_uniform/sub', 'fc6/biases', 'save/Assign_26', 'fc6/biases/read', 'fc6/biases/Initializer/Const', 'fc6/biases/Assign', 'fc6/weight_loss/y', 'fc6/weights', 'save/Assign_27', 'fc6/weights/read', 'fc6/L2Loss', 'fc6/weight_loss', 'fc6/weights/Initializer/Const', 'fc6/weights/Assign', 'conv5_3/biases', 'save/Assign_24', 'conv5_3/biases/read', 'conv5_3/biases/Initializer/Const', 'conv5_3/biases/Assign', 'conv5_3/weight_loss/y', 'conv5_3/filter', 'save/Assign_25', 'conv5_3/filter/read', 'conv5_3/L2Loss', 'conv5_3/weight_loss', 'conv5_3/filter/Initializer/Const', 'conv5_3/filter/Assign', 'conv5_2/biases', 'save/Assign_22', 'conv5_2/biases/read', 'conv5_2/biases/Initializer/Const', 'conv5_2/biases/Assign', 'conv5_2/weight_loss/y', 'conv5_2/filter', 'save/Assign_23', 'conv5_2/filter/read', 'conv5_2/L2Loss', 'conv5_2/weight_loss', 'conv5_2/filter/Initializer/Const', 'conv5_2/filter/Assign', 'conv5_1/biases', 'save/Assign_20', 'conv5_1/biases/read', 'conv5_1/biases/Initializer/Const', 'conv5_1/biases/Assign', 'conv5_1/weight_loss/y', 'conv5_1/filter', 'save/Assign_21', 'conv5_1/filter/read', 'conv5_1/L2Loss', 'conv5_1/weight_loss', 'conv5_1/filter/Initializer/Const', 'conv5_1/filter/Assign', 'conv4_3/biases', 'save/Assign_18', 'conv4_3/biases/read', 'conv4_3/biases/Initializer/Const', 'conv4_3/biases/Assign', 'conv4_3/weight_loss/y', 'conv4_3/filter', 'save/Assign_19', 'conv4_3/filter/read', 'conv4_3/L2Loss', 'conv4_3/weight_loss', 'conv4_3/filter/Initializer/Const', 'conv4_3/filter/Assign', 'conv4_2/biases', 'save/Assign_16', 'conv4_2/biases/read', 'conv4_2/biases/Initializer/Const', 'conv4_2/biases/Assign', 'conv4_2/weight_loss/y', 'conv4_2/filter', 'save/Assign_17', 'conv4_2/filter/read', 'conv4_2/L2Loss', 'conv4_2/weight_loss', 'conv4_2/filter/Initializer/Const', 'conv4_2/filter/Assign', 'conv4_1/biases', 'save/Assign_14', 'conv4_1/biases/read', 'conv4_1/biases/Initializer/Const', 'conv4_1/biases/Assign', 'conv4_1/weight_loss/y', 'conv4_1/filter', 'save/Assign_15', 'conv4_1/filter/read', 'conv4_1/L2Loss', 'conv4_1/weight_loss', 'conv4_1/filter/Initializer/Const', 'conv4_1/filter/Assign', 'conv3_3/biases', 'save/Assign_12', 'conv3_3/biases/read', 'conv3_3/biases/Initializer/Const', 'conv3_3/biases/Assign', 'conv3_3/weight_loss/y', 'conv3_3/filter', 'save/Assign_13', 'conv3_3/filter/read', 'conv3_3/L2Loss', 'conv3_3/weight_loss', 'conv3_3/filter/Initializer/Const', 'conv3_3/filter/Assign', 'conv3_2/biases', 'save/Assign_10', 'conv3_2/biases/read', 'conv3_2/biases/Initializer/Const', 'conv3_2/biases/Assign', 'conv3_2/weight_loss/y', 'conv3_2/filter', 'save/Assign_11', 'conv3_2/filter/read', 'conv3_2/L2Loss', 'conv3_2/weight_loss', 'conv3_2/filter/Initializer/Const', 'conv3_2/filter/Assign', 'conv3_1/biases', 'save/Assign_8', 'conv3_1/biases/read', 'conv3_1/biases/Initializer/Const', 'conv3_1/biases/Assign', 'conv3_1/weight_loss/y', 'conv3_1/filter', 'save/Assign_9', 'conv3_1/filter/read', 'conv3_1/L2Loss', 'conv3_1/weight_loss', 'conv3_1/filter/Initializer/Const', 'conv3_1/filter/Assign', 'conv2_2/biases', 'save/Assign_6', 'conv2_2/biases/read', 'conv2_2/biases/Initializer/Const', 'conv2_2/biases/Assign', 'conv2_2/weight_loss/y', 'conv2_2/filter', 'save/Assign_7', 'conv2_2/filter/read', 'conv2_2/L2Loss', 'conv2_2/weight_loss', 'conv2_2/filter/Initializer/Const', 'conv2_2/filter/Assign', 'conv2_1/biases', 'save/Assign_4', 'conv2_1/biases/read', 'conv2_1/biases/Initializer/Const', 'conv2_1/biases/Assign', 'conv2_1/weight_loss/y', 'conv2_1/filter', 'save/Assign_5', 'conv2_1/filter/read', 'conv2_1/L2Loss', 'conv2_1/weight_loss', 'conv2_1/filter/Initializer/Const', 'conv2_1/filter/Assign', 'conv1_2/biases', 'save/Assign_2', 'conv1_2/biases/read', 'conv1_2/biases/Initializer/Const', 'conv1_2/biases/Assign', 'conv1_2/weight_loss/y', 'conv1_2/filter', 'save/Assign_3', 'conv1_2/filter/read', 'conv1_2/L2Loss', 'conv1_2/weight_loss', 'conv1_2/filter/Initializer/Const', 'conv1_2/filter/Assign', 'conv1_1/biases', 'save/Assign', 'conv1_1/biases/read', 'conv1_1/biases/Initializer/Const', 'conv1_1/biases/Assign', 'conv1_1/weight_loss/y', 'conv1_1/filter', 'save/Assign_1', 'save/restore_shard', 'save/restore_all', 'save/SaveV2', 'save/control_dependency', 'save/MergeV2Checkpoints/checkpoint_prefixes', 'save/MergeV2Checkpoints', 'save/Identity', 'conv1_1/filter/read', 'conv1_1/L2Loss', 'conv1_1/weight_loss', 'conv1_1/filter/Initializer/Const', 'conv1_1/filter/Assign', 'init', 'Processing/concat/axis', 'Processing/sub_2/y', 'Processing/sub_1/y', 'Processing/sub/y', 'Processing/split/split_dim', 'keep_prob', 'image_input', 'Processing/split', 'Processing/sub_2', 'Processing/sub_1', 'Processing/sub', 'Processing/concat', 'conv1_1/Conv2D', 'conv1_1/BiasAdd', 'conv1_1/Relu', 'conv1_2/Conv2D', 'conv1_2/BiasAdd', 'conv1_2/Relu', 'pool1', 'conv2_1/Conv2D', 'conv2_1/BiasAdd', 'conv2_1/Relu', 'conv2_2/Conv2D', 'conv2_2/BiasAdd', 'conv2_2/Relu', 'pool2', 'conv3_1/Conv2D', 'conv3_1/BiasAdd', 'conv3_1/Relu', 'conv3_2/Conv2D', 'conv3_2/BiasAdd', 'conv3_2/Relu', 'conv3_3/Conv2D', 'conv3_3/BiasAdd', 'conv3_3/Relu', 'pool3', 'conv4_1/Conv2D', 'conv4_1/BiasAdd', 'conv4_1/Relu', 'conv4_2/Conv2D', 'conv4_2/BiasAdd', 'conv4_2/Relu', 'conv4_3/Conv2D', 'conv4_3/BiasAdd', 'conv4_3/Relu', 'pool4', 'conv5_1/Conv2D', 'conv5_1/BiasAdd', 'conv5_1/Relu', 'conv5_2/Conv2D', 'conv5_2/BiasAdd', 'conv5_2/Relu', 'conv5_3/Conv2D', 'conv5_3/BiasAdd', 'conv5_3/Relu', 'pool5', 'fc6/Conv2D', 'fc6/BiasAdd', 'fc6/Relu', 'dropout/div', 'dropout/Shape', 'dropout/random_uniform/RandomUniform', 'dropout/random_uniform/mul', 'dropout/random_uniform', 'dropout/add', 'dropout/Floor', 'dropout/mul', 'fc7/Conv2D', 'fc7/BiasAdd', 'fc7/Relu', 'dropout_1/div', 'dropout_1/Shape', 'dropout_1/random_uniform/RandomUniform', 'dropout_1/random_uniform/mul', 'dropout_1/random_uniform', 'dropout_1/add', 'dropout_1/Floor', 'dropout_1/mul', 'layer7_out', 'layer4_out', 'layer3_out']\n"
     ]
    }
   ],
   "source": [
    "# print all tensor names\n",
    "tensors = [n.name for n in tf.get_default_graph().as_graph_def().node]\n",
    "print(tensors)"
   ]
  },
  {
   "cell_type": "code",
   "execution_count": 6,
   "metadata": {},
   "outputs": [
    {
     "name": "stdout",
     "output_type": "stream",
     "text": [
      "Tensor(\"fc6/Conv2D:0\", shape=(?, ?, ?, 4096), dtype=float32)\n",
      "Tensor(\"fc7/Conv2D:0\", shape=(?, ?, ?, 4096), dtype=float32)\n",
      "Tensor(\"pool5:0\", shape=(?, ?, ?, 512), dtype=float32)\n"
     ]
    }
   ],
   "source": [
    "## try to get fc layers\n",
    "fc6 = graph.get_tensor_by_name('fc6/Conv2D:0')\n",
    "fc7 = graph.get_tensor_by_name('fc7/Conv2D:0')\n",
    "pool5 = graph.get_tensor_by_name('pool5:0')\n",
    "print(fc6)\n",
    "print(fc7)\n",
    "print(pool5)"
   ]
  },
  {
   "cell_type": "markdown",
   "metadata": {},
   "source": [
    "### log metadata to get shape of tensors in graph"
   ]
  },
  {
   "cell_type": "code",
   "execution_count": 7,
   "metadata": {},
   "outputs": [
    {
     "name": "stdout",
     "output_type": "stream",
     "text": [
      "img shape: (1, 224, 224, 3)\n",
      "output tensor: (1, 7, 7, 4096)\n"
     ]
    }
   ],
   "source": [
    "writer = tf.summary.FileWriter(\"tfgraphs/\")\n",
    "writer.add_graph(sess.graph)\n",
    "run_options = tf.RunOptions(trace_level=tf.RunOptions.FULL_TRACE)\n",
    "run_metadata = tf.RunMetadata()\n",
    "\n",
    "# get an image\n",
    "image_shape = (224, 224)\n",
    "data_folder='../data/data_road/training'\n",
    "image_paths = glob(os.path.join(data_folder, 'image_2', '*.png'))\n",
    "image_file = image_paths[0]\n",
    "img = cv2.imread(image_file)\n",
    "img = cv2.resize(img, image_shape[::-1])\n",
    "img = np.array(img)\n",
    "img = img[None,:] # add dimension for batches\n",
    "print('img shape: {}'.format(img.shape))\n",
    "\n",
    "# x, _ = get_batches_fn(1)\n",
    "fc6,fc7,out = sess.run([fc6,fc7,layer7_out], feed_dict={image_input: img, keep_prob: 1},\n",
    "                options=run_options,\n",
    "                run_metadata=run_metadata)\n",
    "\n",
    "writer.add_run_metadata(run_metadata, 'step0')\n",
    "print('output tensor: {}'.format(out.shape))"
   ]
  },
  {
   "cell_type": "code",
   "execution_count": 8,
   "metadata": {},
   "outputs": [
    {
     "ename": "SyntaxError",
     "evalue": "invalid syntax (<ipython-input-8-b438e10836e5>, line 1)",
     "output_type": "error",
     "traceback": [
      "\u001b[0;36m  File \u001b[0;32m\"<ipython-input-8-b438e10836e5>\"\u001b[0;36m, line \u001b[0;32m1\u001b[0m\n\u001b[0;31m    print('pool5: {}'.format(.shape))\u001b[0m\n\u001b[0m                             ^\u001b[0m\n\u001b[0;31mSyntaxError\u001b[0m\u001b[0;31m:\u001b[0m invalid syntax\n"
     ]
    }
   ],
   "source": [
    "print('pool5: {}'.format(.shape))\n",
    "print('fc6: {}'.format(fc6.shape))\n",
    "print('fc7: {}'.format(fc7.shape))"
   ]
  },
  {
   "cell_type": "code",
   "execution_count": 17,
   "metadata": {},
   "outputs": [
    {
     "data": {
      "text/plain": [
       "[<tf.Variable 'conv1_1/filter:0' shape=(3, 3, 3, 64) dtype=float32_ref>,\n",
       " <tf.Variable 'conv1_1/biases:0' shape=(64,) dtype=float32_ref>,\n",
       " <tf.Variable 'conv1_2/filter:0' shape=(3, 3, 64, 64) dtype=float32_ref>,\n",
       " <tf.Variable 'conv1_2/biases:0' shape=(64,) dtype=float32_ref>,\n",
       " <tf.Variable 'conv2_1/filter:0' shape=(3, 3, 64, 128) dtype=float32_ref>,\n",
       " <tf.Variable 'conv2_1/biases:0' shape=(128,) dtype=float32_ref>,\n",
       " <tf.Variable 'conv2_2/filter:0' shape=(3, 3, 128, 128) dtype=float32_ref>,\n",
       " <tf.Variable 'conv2_2/biases:0' shape=(128,) dtype=float32_ref>,\n",
       " <tf.Variable 'conv3_1/filter:0' shape=(3, 3, 128, 256) dtype=float32_ref>,\n",
       " <tf.Variable 'conv3_1/biases:0' shape=(256,) dtype=float32_ref>,\n",
       " <tf.Variable 'conv3_2/filter:0' shape=(3, 3, 256, 256) dtype=float32_ref>,\n",
       " <tf.Variable 'conv3_2/biases:0' shape=(256,) dtype=float32_ref>,\n",
       " <tf.Variable 'conv3_3/filter:0' shape=(3, 3, 256, 256) dtype=float32_ref>,\n",
       " <tf.Variable 'conv3_3/biases:0' shape=(256,) dtype=float32_ref>,\n",
       " <tf.Variable 'conv4_1/filter:0' shape=(3, 3, 256, 512) dtype=float32_ref>,\n",
       " <tf.Variable 'conv4_1/biases:0' shape=(512,) dtype=float32_ref>,\n",
       " <tf.Variable 'conv4_2/filter:0' shape=(3, 3, 512, 512) dtype=float32_ref>,\n",
       " <tf.Variable 'conv4_2/biases:0' shape=(512,) dtype=float32_ref>,\n",
       " <tf.Variable 'conv4_3/filter:0' shape=(3, 3, 512, 512) dtype=float32_ref>,\n",
       " <tf.Variable 'conv4_3/biases:0' shape=(512,) dtype=float32_ref>,\n",
       " <tf.Variable 'conv5_1/filter:0' shape=(3, 3, 512, 512) dtype=float32_ref>,\n",
       " <tf.Variable 'conv5_1/biases:0' shape=(512,) dtype=float32_ref>,\n",
       " <tf.Variable 'conv5_2/filter:0' shape=(3, 3, 512, 512) dtype=float32_ref>,\n",
       " <tf.Variable 'conv5_2/biases:0' shape=(512,) dtype=float32_ref>,\n",
       " <tf.Variable 'conv5_3/filter:0' shape=(3, 3, 512, 512) dtype=float32_ref>,\n",
       " <tf.Variable 'conv5_3/biases:0' shape=(512,) dtype=float32_ref>,\n",
       " <tf.Variable 'fc6/weights:0' shape=(7, 7, 512, 4096) dtype=float32_ref>,\n",
       " <tf.Variable 'fc6/biases:0' shape=(4096,) dtype=float32_ref>,\n",
       " <tf.Variable 'fc7/weights:0' shape=(1, 1, 4096, 4096) dtype=float32_ref>,\n",
       " <tf.Variable 'fc7/biases:0' shape=(4096,) dtype=float32_ref>]"
      ]
     },
     "execution_count": 17,
     "metadata": {},
     "output_type": "execute_result"
    }
   ],
   "source": [
    "tf.global_variables()"
   ]
  },
  {
   "cell_type": "code",
   "execution_count": null,
   "metadata": {},
   "outputs": [],
   "source": []
  }
 ],
 "metadata": {
  "kernelspec": {
   "display_name": "Python 3",
   "language": "python",
   "name": "python3"
  },
  "language_info": {
   "codemirror_mode": {
    "name": "ipython",
    "version": 3
   },
   "file_extension": ".py",
   "mimetype": "text/x-python",
   "name": "python",
   "nbconvert_exporter": "python",
   "pygments_lexer": "ipython3",
   "version": "3.5.5"
  },
  "widgets": {
   "state": {},
   "version": "1.1.2"
  }
 },
 "nbformat": 4,
 "nbformat_minor": 2
}
