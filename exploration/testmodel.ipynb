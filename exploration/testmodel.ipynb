{
 "cells": [
  {
   "cell_type": "code",
   "execution_count": null,
   "metadata": {},
   "outputs": [],
   "source": [
    "import tensorflow as tf\n",
    "import numpy as np\n",
    "import matplotlib.pyplot as plt\n",
    "import scipy.misc"
   ]
  },
  {
   "cell_type": "code",
   "execution_count": null,
   "metadata": {},
   "outputs": [],
   "source": [
    "# restore model"
   ]
  },
  {
   "cell_type": "code",
   "execution_count": null,
   "metadata": {},
   "outputs": [],
   "source": [
    "# predict on image"
   ]
  },
  {
   "cell_type": "code",
   "execution_count": null,
   "metadata": {},
   "outputs": [],
   "source": [
    "image_file = '../data/data_road/training/image_2/um_000022.png'\n",
    "image = scipy.misc.imresize(scipy.misc.imread(image_file), image_shape)\n",
    "\n",
    "im_softmax = sess.run(\n",
    "    [tf.nn.softmax(logits)],\n",
    "    {keep_prob: 1.0, image_pl: [image]})\n",
    "im_softmax = im_softmax[0][:, 1].reshape(image_shape[0], image_shape[1])\n",
    "segmentation = (im_softmax > 0.5).reshape(image_shape[0], image_shape[1], 1)\n",
    "mask = np.dot(segmentation, np.array([[0, 255, 0, 127]]))\n",
    "mask = scipy.misc.toimage(mask, mode=\"RGBA\")\n",
    "street_im = scipy.misc.toimage(image)\n",
    "street_im.paste(mask, box=None, mask=mask)"
   ]
  },
  {
   "cell_type": "code",
   "execution_count": null,
   "metadata": {},
   "outputs": [],
   "source": [
    "plt.imshow(street_im)"
   ]
  }
 ],
 "metadata": {
  "kernelspec": {
   "display_name": "Python 3",
   "language": "python",
   "name": "python3"
  },
  "language_info": {
   "codemirror_mode": {
    "name": "ipython",
    "version": 3
   },
   "file_extension": ".py",
   "mimetype": "text/x-python",
   "name": "python",
   "nbconvert_exporter": "python",
   "pygments_lexer": "ipython3",
   "version": "3.5.5"
  },
  "widgets": {
   "state": {},
   "version": "1.1.2"
  }
 },
 "nbformat": 4,
 "nbformat_minor": 2
}
