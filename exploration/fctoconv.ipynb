{
 "cells": [
  {
   "cell_type": "code",
   "execution_count": 1,
   "metadata": {},
   "outputs": [],
   "source": [
    "import tensorflow as tf\n",
    "import numpy as np"
   ]
  },
  {
   "cell_type": "code",
   "execution_count": 9,
   "metadata": {},
   "outputs": [],
   "source": [
    "pool5 = np.ones((1,7,7,512))\n",
    "p5 = tf.placeholder(tf.float32, [1,7,7,512])\n",
    "\n",
    "fc6 = tf.layers.conv2d(p5, 4096, 7, (1,1), padding='same')\n"
   ]
  },
  {
   "cell_type": "code",
   "execution_count": 10,
   "metadata": {},
   "outputs": [
    {
     "name": "stdout",
     "output_type": "stream",
     "text": [
      "output shape: (1, 1, 1, 4096)\n"
     ]
    }
   ],
   "source": [
    "with tf.Session() as sess:\n",
    "    # initialize global variables (for eg. biases)\n",
    "    sess.run(tf.global_variables_initializer())\n",
    "    \n",
    "    out = sess.run(fc6, feed_dict={p5:pool5})\n",
    "    \n",
    "    print('output shape: {}'.format(out.shape))\n",
    "    "
   ]
  },
  {
   "cell_type": "markdown",
   "metadata": {},
   "source": [
    "### testing padding"
   ]
  },
  {
   "cell_type": "code",
   "execution_count": 19,
   "metadata": {},
   "outputs": [
    {
     "name": "stdout",
     "output_type": "stream",
     "text": [
      "output shape: (1, 3, 1)\n"
     ]
    }
   ],
   "source": [
    "W = 13\n",
    "F = 5\n",
    "S = 5\n",
    "x = np.ones((1,W,1))\n",
    "X = tf.placeholder(tf.float32, [1,W,1])\n",
    "\n",
    "Y = tf.layers.conv1d(X, 1, F, S, padding='same')\n",
    "\n",
    "with tf.Session() as sess:\n",
    "    # initialize global variables (for eg. biases)\n",
    "    sess.run(tf.global_variables_initializer())\n",
    "    \n",
    "    out = sess.run(Y, feed_dict={X:x})\n",
    "    \n",
    "    print('output shape: {}'.format(out.shape))"
   ]
  },
  {
   "cell_type": "code",
   "execution_count": null,
   "metadata": {},
   "outputs": [],
   "source": []
  }
 ],
 "metadata": {
  "kernelspec": {
   "display_name": "Python 3",
   "language": "python",
   "name": "python3"
  },
  "language_info": {
   "codemirror_mode": {
    "name": "ipython",
    "version": 3
   },
   "file_extension": ".py",
   "mimetype": "text/x-python",
   "name": "python",
   "nbconvert_exporter": "python",
   "pygments_lexer": "ipython3",
   "version": "3.5.5"
  },
  "widgets": {
   "state": {},
   "version": "1.1.2"
  }
 },
 "nbformat": 4,
 "nbformat_minor": 2
}
